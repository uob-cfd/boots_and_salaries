{
 "cells": [
  {
   "cell_type": "markdown",
   "id": "705d79dc",
   "metadata": {},
   "source": [
    "# The bootstrap and variance of sample means"
   ]
  },
  {
   "cell_type": "markdown",
   "id": "831b2772",
   "metadata": {},
   "source": [
    "## About this exercise\n",
    "\n",
    "This exercise is a version of lab 1 from section 3 of\n",
    "<https://github.com/data-8/materials-x19> with thanks.  See that URL for more\n",
    "on the license for these materials.  We release this version, like the\n",
    "original, under the  [Creative Commons Attribution-NonCommercial 4.0\n",
    "International license](https://creativecommons.org/licenses/by-nc/4.0) (CC\n",
    "BY-NC 4.0).\n"
   ]
  },
  {
   "cell_type": "markdown",
   "id": "e063aeca",
   "metadata": {},
   "source": [
    "## Variability of the Sample Mean"
   ]
  },
  {
   "cell_type": "markdown",
   "id": "8afb4672",
   "metadata": {},
   "source": [
    "In this lab we will learn about [the variance of sample\n",
    "means](https://www.inferentialthinking.com/chapters/14/5/variability-of-the-sample-mean.html)."
   ]
  },
  {
   "cell_type": "code",
   "execution_count": null,
   "id": "a2c87b53",
   "metadata": {},
   "outputs": [],
   "source": [
    "# Run this cell, but please don't change it.\n",
    "import numpy as np\n",
    "import pandas as pd\n",
    "# Safe settings for Pandas.\n",
    "pd.set_option('mode.chained_assignment', 'raise')\n",
    "\n",
    "import matplotlib.pyplot as plt\n",
    "plt.style.use('fivethirtyeight')\n",
    "\n",
    "# Load the OKpy test library and tests.\n",
    "from client.api.notebook import Notebook\n",
    "ok = Notebook('boots_and_salaries.ok')"
   ]
  },
  {
   "cell_type": "markdown",
   "id": "0931ea18",
   "metadata": {},
   "source": [
    "Imagine we take a reasonable-sized sample from some *population*, and record\n",
    "the mean of the sample.\n",
    "\n",
    "Then we take many other samples, of the same size, from the same population,\n",
    "and take the mean of each. Now consider the distributions of these means.  This\n",
    "is the *sampling distribution of the mean*, because it is the distribution of\n",
    "the means we get from different samples.\n",
    "\n",
    "A result in probability theory, called the [Central Limit\n",
    "Theorem](https://en.wikipedia.org/wiki/Central_limit_theorem), shows that, as\n",
    "long as the sample size is large enough, the sampling distribution of the mean\n",
    "will be close to a *normal distribution* — a bell-shaped curve. The bell curve\n",
    "is centered at the population mean. Some of the sample means are higher, and\n",
    "some lower, but the deviations from the population mean are roughly symmetric\n",
    "on either side.  We have seen distributions like this many times, from our simulations.\n",
    "\n",
    "In our simulations, you may have noticed that the means of *larger samples*\n",
    "tend to be more tightly clustered around the population mean than means of\n",
    "*smaller samples*. In this section, we will quantify the variability of the\n",
    "sample mean and develop a relation between the variability and the sample size.\n",
    "\n",
    "Let's take a look at the salaries of employees of the City of San Francisco in\n",
    "2014. The mean salary reported by the city government was \\$75463.92."
   ]
  },
  {
   "cell_type": "code",
   "execution_count": null,
   "id": "7ca5606f",
   "metadata": {},
   "outputs": [],
   "source": [
    "salaries = pd.read_csv('sf_salaries_2014.csv')[\"salary\"]\n",
    "salaries.head()"
   ]
  },
  {
   "cell_type": "code",
   "execution_count": null,
   "id": "83f3c64c",
   "metadata": {},
   "outputs": [],
   "source": [
    "salary_mean = np.mean(salaries)\n",
    "salary_mean"
   ]
  },
  {
   "cell_type": "code",
   "execution_count": null,
   "id": "0d54b048",
   "metadata": {},
   "outputs": [],
   "source": [
    "salaries.plot.hist(bins=np.arange(0, 300000+10000*2, 10000), zorder=1)\n",
    "plt.scatter(salary_mean, 0, marker='^', color='red', s=200, zorder=2)\n",
    "plt.xticks(rotation = 35);"
   ]
  },
  {
   "cell_type": "markdown",
   "id": "f2afda75",
   "metadata": {},
   "source": [
    "## Resampling with and without replacement.\n",
    "\n",
    "Before we start, a reminder about resampling *without* replacement, and\n",
    "resampling *with replacement*.\n",
    "\n",
    "When we are taking a *sample* from a larger population, we usually use\n",
    "resampling *without* replacement.  For example, if we take a sample of 100 from\n",
    "salaries all the salaries above, we usually take 100 *different* salaries, as\n",
    "example values from the distribution.\n",
    "\n",
    "For bootstrap resampling, where we are sampling from a sample, we sampling\n",
    "*with* replacement.\n",
    "\n",
    "In what follows, assume resampling *without replacement* for taking a smaller\n",
    "sample from a larger population.\n"
   ]
  },
  {
   "cell_type": "markdown",
   "id": "b550772e",
   "metadata": {},
   "source": [
    "## Question 1\n",
    "\n",
    "Clearly, the *population* of salaries does not follow a normal (bell-shaped)\n",
    "distribution. Keep that in mind as we progress through these exercises.\n",
    "\n",
    "Let's take random samples and look at the distribution of the sample mean. As\n",
    "usual, we will use simulation to get an empirical approximation to this\n",
    "distribution.\n",
    "\n",
    "We will define a function `simulate_sample_mean` to do this, because we are\n",
    "going to vary the sample size later. The arguments are the name of the data\n",
    "frame, the label of the column containing the variable, the sample size, and\n",
    "the number of simulations.\n",
    "\n",
    "Complete the function `simulate_sample_mean`. It will not be graded, but if you\n",
    "haven't implemented it correctly, some of the lab won't work properly, so this\n",
    "step is crucial."
   ]
  },
  {
   "cell_type": "code",
   "execution_count": null,
   "id": "f6fcd6ce",
   "metadata": {},
   "outputs": [],
   "source": [
    "\"\"\"Empirical distribution of random sample means\"\"\"\n",
    "\n",
    "def simulate_sample_mean(sdata, sample_size, repetitions):\n",
    "    \"\"\" Plot sampling distribution of mean, sampling from Series `sdata`.\n",
    "\n",
    "    The function does not return anything (in fact it returns None).\n",
    "\n",
    "    Parameters\n",
    "    ----------\n",
    "    sdata : Series\n",
    "        Pandas Series containing data to sample from.\n",
    "    sample_size : integer\n",
    "        Size of sample (without replacement) to take from `sdata`.\n",
    "    repetitions : integer\n",
    "        Number of samples to take from `sdata`.\n",
    "    \"\"\"\n",
    "    means = np.zeros(repetitions)\n",
    "\n",
    "    for i in np.arange(repetitions):\n",
    "        new_sample = ...\n",
    "        new_sample_mean = ...\n",
    "        ...\n",
    "    # Display empirical histogram and print all relevant quantities.\n",
    "    # Don't change this!\n",
    "    plt.hist(means, bins=20)\n",
    "    plt.xlabel('Sample Means')\n",
    "    plt.title('Sample Size ' + str(sample_size))\n",
    "    plt.xticks(rotation=35)\n",
    "    print(\"Sample size: \", sample_size)\n",
    "    print(\"Population mean:\", np.mean(sdata))\n",
    "    print(\"Average of sample means: \", np.mean(means))\n",
    "    print(\"Population SD:\", np.std(sdata))\n",
    "    print(\"SD of sample means:\", np.std(means))"
   ]
  },
  {
   "cell_type": "markdown",
   "id": "2e5e90cb",
   "metadata": {},
   "source": [
    "## Question 2"
   ]
  },
  {
   "cell_type": "markdown",
   "id": "edef3b27",
   "metadata": {},
   "source": [
    "In the following cell, we will create a sample of size 100 from the `'salary`\n",
    "column of the `salaries` table and graph it using our new\n",
    "`simulate_sample_mean` function."
   ]
  },
  {
   "cell_type": "code",
   "execution_count": null,
   "id": "2e196f28",
   "metadata": {},
   "outputs": [],
   "source": [
    "simulate_sample_mean(salaries, 100, 10000)\n",
    "plt.xlim(50000, 100000)"
   ]
  },
  {
   "cell_type": "markdown",
   "id": "40c79768",
   "metadata": {},
   "source": [
    "In the following two cells, simulate the mean of a random sample of 400\n",
    "salaries and 625 salaries, respectively. In each case, perform 10,000\n",
    "repetitions of each of these processes. Don't worry about the `plt.xlim` line —\n",
    "it just makes sure that all of the plots have the same x-axis."
   ]
  },
  {
   "cell_type": "code",
   "execution_count": null,
   "id": "f9690fc1",
   "metadata": {
    "for_assignment_type": "student"
   },
   "outputs": [],
   "source": [
    "simulate_sample_mean(..., ..., ...)"
   ]
  },
  {
   "cell_type": "code",
   "execution_count": null,
   "id": "0466ac84",
   "metadata": {
    "for_assignment_type": "student"
   },
   "outputs": [],
   "source": [
    "simulate_sample_mean(..., ..., ...)"
   ]
  },
  {
   "cell_type": "markdown",
   "id": "a41eed7a",
   "metadata": {},
   "source": [
    "We can see the Central Limit Theorem in action – the histograms of the sample\n",
    "means are roughly normal, even though the histogram of the salaries themselves\n",
    "is far from normal.\n",
    "\n",
    "We can also see that each of the three histograms of the sample means is\n",
    "centered very closely on the population mean. In each case, the \"average of\n",
    "sample means\" is very close to the population mean. Both values are provided in\n",
    "the printout above each histogram. As expected, the sample mean is useful (in\n",
    "fact, an *unbiased*) estimate of the population mean."
   ]
  },
  {
   "cell_type": "markdown",
   "id": "c8d07dd2",
   "metadata": {},
   "source": [
    "## Bootstrap resampling\n",
    "\n",
    "Complete the function `bootstrap_sample_mean`.  It is a version of the\n",
    "`simulate_sample_mean` function above, but instead of resampling without\n",
    "replacement from a population, it resamples *with replacement* from the given\n",
    "sample."
   ]
  },
  {
   "cell_type": "code",
   "execution_count": null,
   "id": "04133413",
   "metadata": {},
   "outputs": [],
   "source": [
    "\"\"\"Distribution of bootstrap sample means\"\"\"\n",
    "\n",
    "def bootstrap_sample_mean(sample, repetitions):\n",
    "    \"\"\" Plot bootstrap sampling distribution of mean from `sample`\n",
    "\n",
    "    The function does not return anything (in fact it returns None).\n",
    "\n",
    "    Parameters\n",
    "    ----------\n",
    "    sample : Series\n",
    "        Pandas Series containing data to take bootstrap samples from.\n",
    "    repetitions : integer\n",
    "        Number of bootstrap samples to take from `sample`.\n",
    "    \"\"\"\n",
    "    sample_size = len(sample)\n",
    "    boot_means = np.zeros(repetitions)\n",
    "\n",
    "    for i in np.arange(repetitions):\n",
    "        new_boot_sample = ...\n",
    "        new_boot_sample_mean = ...\n",
    "        ...\n",
    "    # Display bootstrap histogram and print all relevant quantities.\n",
    "    # Don't change this!\n",
    "    plt.hist(boot_means, bins=20)\n",
    "    plt.xlabel('Bootstrap Sample Means')\n",
    "    plt.title('Sample Size ' + str(sample_size))\n",
    "    plt.xticks(rotation=35)\n",
    "    print(\"Sample size: \", sample_size)\n",
    "    print(\"Original sample mean:\", np.mean(sample))\n",
    "    print(\"Average of bootstrap sample means: \", np.mean(boot_means))\n",
    "    print(\"Original sample SD:\", np.std(sample))\n",
    "    print(\"SD of bootstrap sample means:\", np.std(boot_means))"
   ]
  },
  {
   "cell_type": "markdown",
   "id": "5da2c4ee",
   "metadata": {},
   "source": [
    "You can use this function further below to look at bootstrap mean\n",
    "distributions, in answering the next question.\n"
   ]
  },
  {
   "cell_type": "markdown",
   "id": "95d941bc",
   "metadata": {},
   "source": [
    "## Question 3"
   ]
  },
  {
   "cell_type": "markdown",
   "id": "c66c5d52",
   "metadata": {},
   "source": [
    "Assign the variable `bootstrap_sampled_SD` to the integer corresponding to your\n",
    "answer to the following question:\n",
    "\n",
    "When I increase the number of bootstrap samples that I take, for a fixed sample\n",
    "size, the standard deviation (SD) of my sample mean will...\n",
    "\n",
    "1. Increase\n",
    "2. Decrease\n",
    "3. Stay about the same\n",
    "4. Vary widely"
   ]
  },
  {
   "cell_type": "code",
   "execution_count": null,
   "id": "3af9508e",
   "metadata": {},
   "outputs": [],
   "source": [
    "bootstrap_sampled_SD = ..."
   ]
  },
  {
   "cell_type": "code",
   "execution_count": null,
   "id": "1ff30d9c",
   "metadata": {},
   "outputs": [],
   "source": [
    "_ = ok.grade('q2_3')"
   ]
  },
  {
   "cell_type": "markdown",
   "id": "6fc7cdea",
   "metadata": {},
   "source": [
    "Below, we'll look at what happens when we take a fixed sample, then bootstrap\n",
    "from it with different numbers of resamples. How does the distribution of the\n",
    "resampled means change?"
   ]
  },
  {
   "cell_type": "code",
   "execution_count": null,
   "id": "68018e83",
   "metadata": {},
   "outputs": [],
   "source": [
    "# A sample from the population\n",
    "a_sample = salaries.sample(100, replace=False)"
   ]
  },
  {
   "cell_type": "code",
   "execution_count": null,
   "id": "211bca7a",
   "metadata": {},
   "outputs": [],
   "source": [
    "bootstrap_sample_mean(a_sample, 500)\n",
    "plt.xlim(50000, 100000)"
   ]
  },
  {
   "cell_type": "code",
   "execution_count": null,
   "id": "1c57cb56",
   "metadata": {},
   "outputs": [],
   "source": [
    "bootstrap_sample_mean(a_sample, 1000)\n",
    "plt.xlim(50000, 100000)"
   ]
  },
  {
   "cell_type": "code",
   "execution_count": null,
   "id": "58bdc2f3",
   "metadata": {},
   "outputs": [],
   "source": [
    "bootstrap_sample_mean(a_sample, 5000)\n",
    "plt.xlim(50000, 100000)"
   ]
  },
  {
   "cell_type": "code",
   "execution_count": null,
   "id": "f52a31e4",
   "metadata": {},
   "outputs": [],
   "source": [
    "bootstrap_sample_mean(a_sample, 10000)\n",
    "plt.xlim(50000, 100000)"
   ]
  },
  {
   "cell_type": "markdown",
   "id": "2137dcf6",
   "metadata": {},
   "source": [
    "What did you notice about the sample means of the four bootstrapped samples\n",
    "above?\n"
   ]
  },
  {
   "cell_type": "markdown",
   "id": "deaf5b1e",
   "metadata": {},
   "source": [
    "### Question 4"
   ]
  },
  {
   "cell_type": "markdown",
   "id": "c49c3a08",
   "metadata": {},
   "source": [
    "Next, let's think about how the relationships between the population standard\n",
    "deviation (SD), the sample SD, and SD of sample means change with varying\n",
    "sample size. Which of the following is true? Again, assign the variable\n",
    "`pop_vs_sample` to the integer corresponding to your answer. To gain some\n",
    "intuition, you can run the simulation cells below.\n",
    "\n",
    "1. Sample SD gets smaller with increasing sample size, SD of sample means gets\n",
    "   smaller with increasing sample size\n",
    "2. Sample SD gets larger with increasing sample size, SD of sample means stays\n",
    "   the same with increasing sample size\n",
    "3. Sample SD becomes more consistent with population SD with increasing sample\n",
    "   size, SD of sample means gets smaller with increasing sample size\n",
    "4. Sample SD becomes more consistent with population SD with increasing sample\n",
    "   size, SD of sample means stays the same with increasing sample size"
   ]
  },
  {
   "cell_type": "code",
   "execution_count": null,
   "id": "6b10ace8",
   "metadata": {},
   "outputs": [],
   "source": [
    "pop_vs_sample = ..."
   ]
  },
  {
   "cell_type": "code",
   "execution_count": null,
   "id": "4c189a7d",
   "metadata": {},
   "outputs": [],
   "source": [
    "_ = ok.grade('q2_4')"
   ]
  },
  {
   "cell_type": "markdown",
   "id": "d54dbbc4",
   "metadata": {},
   "source": [
    "Let's see what happens. First, we calculate the population SD so that we can\n",
    "compare the SD of each sample to the SD of the population."
   ]
  },
  {
   "cell_type": "code",
   "execution_count": null,
   "id": "7ccffb21",
   "metadata": {},
   "outputs": [],
   "source": [
    "pop_sd = np.std(salaries)\n",
    "pop_sd"
   ]
  },
  {
   "cell_type": "markdown",
   "id": "6cf8edb3",
   "metadata": {},
   "source": [
    "Let's then how a small sample behaves. Run the following cells multiple times\n",
    "to see how the SD of the sample changes from sample to sample. Adjust the bins\n",
    "as necessary."
   ]
  },
  {
   "cell_type": "code",
   "execution_count": null,
   "id": "eb22838d",
   "metadata": {},
   "outputs": [],
   "source": [
    "sample_10 = salaries.sample(10, replace=False)\n",
    "sample_10.plot.hist()\n",
    "print(\"Sample SD: \", np.std(sample_10))\n",
    "plt.xticks(rotation=35);\n",
    "plt.figure()  # Start new figure.\n",
    "bootstrap_sample_mean(sample_10, 1000)\n",
    "plt.xlim(5, 150000)\n",
    "plt.ylim(0, 150);"
   ]
  },
  {
   "cell_type": "code",
   "execution_count": null,
   "id": "34f89b85",
   "metadata": {},
   "outputs": [],
   "source": [
    "sample_200 = salaries.sample(200, replace=False)\n",
    "sample_200.plot.hist(\"salary\")\n",
    "print(\"Sample SD: \", np.std(sample_200))\n",
    "plt.figure()  # Start new figure.\n",
    "bootstrap_sample_mean(sample_200, 1000)\n",
    "plt.xlim(5, 120000)\n",
    "plt.ylim(0, 150);"
   ]
  },
  {
   "cell_type": "code",
   "execution_count": null,
   "id": "06e5f6df",
   "metadata": {},
   "outputs": [],
   "source": [
    "sample_1000 = salaries.sample(1000, replace=False)\n",
    "sample_1000.plot.hist()\n",
    "print(\"Sample SD: \", np.std(sample_1000))\n",
    "plt.figure()  # Start new figure.\n",
    "bootstrap_sample_mean(sample_1000, 1000)\n",
    "plt.xlim(5, 100000)\n",
    "plt.ylim(0, 175);"
   ]
  },
  {
   "cell_type": "markdown",
   "id": "c480ec15",
   "metadata": {},
   "source": [
    "Let's illustrate this trend. Below, you will see how the average absolute error\n",
    "of SD from the population changes with sample size (N)."
   ]
  },
  {
   "cell_type": "code",
   "execution_count": null,
   "id": "bf606530",
   "metadata": {},
   "outputs": [],
   "source": [
    "# Don't change this cell, just run it!\n",
    "def mean_samp_pop_sd_diff(population, sample_size, n_repetitions):\n",
    "    # Calculate SDs for n_repetitions samples.\n",
    "    # Subtract population SD from each to give samp_pop_sd_diff\n",
    "    # Return mean of absolute values in samp_pop_sd_diff\n",
    "    samp_sds = np.zeros(n_repetitions)\n",
    "    for i in np.arange(n_repetitions):\n",
    "        sample = population.sample(sample_size, replace=False)\n",
    "        samp_sds[i] = np.std(sample)\n",
    "    samp_pop_sd_diff = samp_sds - np.std(population)\n",
    "    return np.mean(np.abs(samp_pop_sd_diff))\n",
    "\n",
    "\n",
    "sample_sizes = np.arange(10, 200, 10)\n",
    "n_sizes = len(sample_sizes)\n",
    "sample_n_errors = np.zeros(n_sizes)\n",
    "for i in np.arange(n_sizes):\n",
    "    sample_size = sample_sizes[i]\n",
    "    sample_n_errors[i] = mean_samp_pop_sd_diff(\n",
    "        salaries, sample_size, 100)\n",
    "\n",
    "plt.plot(sample_sizes, sample_n_errors)\n",
    "plt.xlabel('Sample size')\n",
    "plt.ylabel('Average absolute error in SD')"
   ]
  },
  {
   "cell_type": "markdown",
   "id": "2db625a2",
   "metadata": {},
   "source": [
    "You should notice that the distribution of means gets spikier, and that the\n",
    "distribution of the sample increasingly looks like the distribution of the\n",
    "population as we get to larger sample sizes.\n",
    "\n",
    "Is there a relationship between the sample size and absolute error in standard\n",
    "deviation? Identify this relationship – if you're having trouble, take a look\n",
    "at this\n",
    "[section](https://www.inferentialthinking.com/chapters/14/5/variability-of-the-sample-mean.html)\n",
    "in the Berkeley Data science textbook about the variability of sample means.\n"
   ]
  },
  {
   "cell_type": "markdown",
   "id": "f34ec814",
   "metadata": {},
   "source": [
    "## The end"
   ]
  },
  {
   "cell_type": "markdown",
   "id": "87b6579b",
   "metadata": {},
   "source": [
    "Congratulations! You're finished with this exercise.\n",
    "\n",
    "Be sure to:\n",
    "\n",
    "- **run all the tests** (the next cell has a shortcut for that).\n",
    "- **Save and Checkpoint** from the `File` menu."
   ]
  },
  {
   "cell_type": "code",
   "execution_count": null,
   "id": "caf0d43e",
   "metadata": {},
   "outputs": [],
   "source": [
    "# For your convenience, you can run this cell to run all the tests at once!\n",
    "import os\n",
    "_ = [ok.grade(q[:-3]) for q in os.listdir(\"tests\") if q.startswith('q')]"
   ]
  }
 ],
 "metadata": {
  "jupytext": {
   "notebook_metadata_filter": "all,-language_info",
   "split_at_heading": true,
   "text_representation": {
    "extension": ".Rmd",
    "format_name": "rmarkdown",
    "format_version": "1.2",
    "jupytext_version": "1.10.0"
   }
  },
  "kernelspec": {
   "display_name": "Python 3",
   "language": "python",
   "name": "python3"
  }
 },
 "nbformat": 4,
 "nbformat_minor": 5
}
